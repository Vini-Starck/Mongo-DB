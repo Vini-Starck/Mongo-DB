{
 "cells": [
  {
   "cell_type": "code",
   "execution_count": null,
   "metadata": {
    "colab": {
     "base_uri": "https://localhost:8080/"
    },
    "id": "hZMRMQ7GwnMX",
    "outputId": "245025af-376d-4d97-dcd1-963d14b3da90"
   },
   "outputs": [
    {
     "name": "stdout",
     "output_type": "stream",
     "text": [
      "Requirement already satisfied: pymongo in /usr/local/lib/python3.10/dist-packages (4.10.1)\n",
      "Requirement already satisfied: dnspython<3.0.0,>=1.16.0 in /usr/local/lib/python3.10/dist-packages (from pymongo) (2.7.0)\n"
     ]
    },
    {
     "data": {
      "text/plain": [
       "InsertManyResult([ObjectId('672132ce8cb8e3aad5133c38'), ObjectId('672132ce8cb8e3aad5133c39'), ObjectId('672132ce8cb8e3aad5133c3a'), ObjectId('672132ce8cb8e3aad5133c3b'), ObjectId('672132ce8cb8e3aad5133c3c'), ObjectId('672132ce8cb8e3aad5133c3d'), ObjectId('672132ce8cb8e3aad5133c3e'), ObjectId('672132ce8cb8e3aad5133c3f'), ObjectId('672132ce8cb8e3aad5133c40'), ObjectId('672132ce8cb8e3aad5133c41')], acknowledged=True)"
      ]
     },
     "execution_count": 7,
     "metadata": {},
     "output_type": "execute_result"
    }
   ],
   "source": [
    "import os\n",
    "!pip install pymongo\n",
    "from pymongo import MongoClient\n",
    "import datetime\n",
    "from bson.objectid import ObjectId\n",
    "\n",
    "mongo_url = \"\"\n",
    "client = MongoClient(mongo_url, serverSelectionTimeoutMS=5000)\n",
    "\n",
    "# banco de dados\n",
    "db = client['Cluster0']\n",
    "\n",
    "# Adicionar mais alguns produtos\n",
    "produtos = [\n",
    "  ## Calçados\n",
    "  {\"nome\": \"Tênis de jovem\", \"genero\": \"masculino\",  \"preco\": 10000,  \"tipo\": \"calçado\", \"tamanhos\": [\"30\", \"32\", \"34\", \"36\", \"38\", \"40\", \"41\", \"44\"], \"cores\": [\"verde\", \"branco\"], \"outros\": {\"estilo\": \"passeio\"}, \"estoque\": [{\"tamanho\": \"30\", \"quantidade\": 5}, {\"tamanho\": \"36\", \"quantidade\": 2}]},\n",
    "  {\"nome\": \"Sapato masculino social\", \"genero\": \"feminino\", \"preco\": 25000, \"tipo\": \"calçado\", \"tamanhos\": [\"36\", \"38\", \"40\", \"41\", \"44\"], \"cores\": [\"preto\"], \"outros\": {\"estilo\": \"social\"}, \"estoque\": [{\"tamanho\": \"44\", \"quantidade\": 5}, {\"tamanho\": \"36\", \"quantidade\": 10}]},\n",
    "  {\"nome\": \"Sapato feminino festa\", \"genero\": \"feminino\", \"preco\": 21000, \"tipo\": \"calçado\", \"tamanhos\": [\"30\", \"32\", \"34\", \"36\", \"38\", \"40\"], \"cores\": [\"vermelho\"], \"outros\": {\"estilo\": \"festa\"}, \"estoque\": [{\"tamanho\": \"40\", \"quantidade\": 5}, {\"tamanho\": \"30\", \"quantidade\": 2}]},\n",
    "  # Shorts\n",
    "  {\"nome\": \"Shorts praia\", \"genero\": \"masculino\", \"preco\": 6700, \"tipo\": \"shorts\", \"tamanhos\": [\"P\", \"M\", \"G\", \"GG\"], \"cores\": [\"laranja\", \"azul\"], \"outros\": {\"estilo\": \"praia\"}},\n",
    "  {\"nome\": \"Shorts passeio\", \"genero\": \"masculino\", \"preco\": 7200, \"tipo\": \"shorts\", \"tamanhos\": [\"M\", \"G\", \"GG\"], \"cores\": [\"preto\", \"verde\"], \"outros\": {\"estilo\": \"passeio\"}},\n",
    "  {\"nome\": \"Shorts feminino\", \"genero\": \"feminino\", \"preco\": 7000, \"tipo\": \"shorts\", \"tamanhos\": [\"PP\", \"P\", \"M\", \"G\"], \"cores\": [\"roxo\"], \"outros\": {\"estilo\": \"passeio\"}},\n",
    "  # Camisas\n",
    "  {\"nome\": \"Camisa manga curta masc.\", \"genero\": \"masculino\", \"preco\": 6900, \"tipo\": \"camisa\", \"tamanhos\": [\"P\", \"M\", \"G\", \"GG\"], \"cores\": [\"azul\"], \"outros\": {\"manga\": \"curta\", \"estilo\": \"sport chic\"}},\n",
    "  {\"nome\": \"Camisa manga comprida masc.\", \"genero\": \"masculino\", \"preco\": 9800, \"tipo\": \"camisa\", \"tamanhos\": [\"P\", \"M\", \"G\", \"GG\"], \"cores\": [\"branco\"], \"outros\": {\"manga\": \"comprida\", \"estilo\": \"social\"}},\n",
    "  {\"nome\": \"Camisa manga comprida fem.\", \"genero\": \"feminino\", \"preco\": 10000, \"tipo\": \"camisa\", \"tamanhos\": [\"P\", \"M\", \"G\", \"GG\"], \"cores\": [\"vermelho\"], \"outros\": {\"manga\": \"comprida\", \"estilo\": \"passeio\"}},\n",
    "  {\"nome\": \"Camisa manga curta fem.\", \"genero\": \"feminino\", \"preco\": 6500, \"tipo\": \"camisa\", \"tamanhos\": [\"P\", \"M\", \"G\", \"GG\"], \"cores\": [\"amarelo\"], \"outros\": {\"manga\": \"curta\", \"estilo\": \"passeio\"}}\n",
    "]\n",
    "\n",
    "# colletion => tabela\n",
    "db.produtos.insert_many(produtos)"
   ]
  },
  {
   "cell_type": "markdown",
   "metadata": {
    "id": "pN7rbO__wxdp"
   },
   "source": [
    "\n",
    "Busca:\n",
    "gênero feminino, tamanhos \"P\" e preço entre 5000 e 15000 e \"Outros\" de manga curta\n",
    "DICA: faz cada um separado e depois junta tudo. Mais fácil para debuggar.\n"
   ]
  },
  {
   "cell_type": "code",
   "execution_count": 12,
   "metadata": {
    "colab": {
     "base_uri": "https://localhost:8080/"
    },
    "id": "5ZMg95knw3C3",
    "outputId": "6c14c395-deca-4fbd-e0ef-ce42b19e48bf"
   },
   "outputs": [
    {
     "name": "stdout",
     "output_type": "stream",
     "text": [
      "Buscando produtos:\n",
      "\n",
      "Gênero: Feminino\n",
      "\n",
      "{'_id': ObjectId('672132ce8cb8e3aad5133c39'), 'nome': 'Sapato masculino social', 'genero': 'feminino', 'preco': 25000, 'tipo': 'calçado', 'tamanhos': ['36', '38', '40', '41', '44'], 'cores': ['preto'], 'outros': {'estilo': 'social'}, 'estoque': [{'tamanho': '44', 'quantidade': 5}, {'tamanho': '36', 'quantidade': 10}]}\n",
      "{'_id': ObjectId('672132ce8cb8e3aad5133c3a'), 'nome': 'Sapato feminino festa', 'genero': 'feminino', 'preco': 21000, 'tipo': 'calçado', 'tamanhos': ['30', '32', '34', '36', '38', '40'], 'cores': ['vermelho'], 'outros': {'estilo': 'festa'}, 'estoque': [{'tamanho': '40', 'quantidade': 5}, {'tamanho': '30', 'quantidade': 2}]}\n",
      "{'_id': ObjectId('672132ce8cb8e3aad5133c3d'), 'nome': 'Shorts feminino', 'genero': 'feminino', 'preco': 7000, 'tipo': 'shorts', 'tamanhos': ['PP', 'P', 'M', 'G'], 'cores': ['roxo'], 'outros': {'estilo': 'passeio'}}\n",
      "{'_id': ObjectId('672132ce8cb8e3aad5133c40'), 'nome': 'Camisa manga comprida fem.', 'genero': 'feminino', 'preco': 10000, 'tipo': 'camisa', 'tamanhos': ['P', 'M', 'G', 'GG'], 'cores': ['vermelho'], 'outros': {'manga': 'comprida', 'estilo': 'passeio'}}\n",
      "{'_id': ObjectId('672132ce8cb8e3aad5133c41'), 'nome': 'Camisa manga curta fem.', 'genero': 'feminino', 'preco': 6500, 'tipo': 'camisa', 'tamanhos': ['P', 'M', 'G', 'GG'], 'cores': ['amarelo'], 'outros': {'manga': 'curta', 'estilo': 'passeio'}}\n",
      "\n",
      "Tamanhos: P\n",
      "\n",
      "{'_id': ObjectId('672132ce8cb8e3aad5133c3b'), 'nome': 'Shorts praia', 'genero': 'masculino', 'preco': 6700, 'tipo': 'shorts', 'tamanhos': ['P', 'M', 'G', 'GG'], 'cores': ['laranja', 'azul'], 'outros': {'estilo': 'praia'}}\n",
      "{'_id': ObjectId('672132ce8cb8e3aad5133c3d'), 'nome': 'Shorts feminino', 'genero': 'feminino', 'preco': 7000, 'tipo': 'shorts', 'tamanhos': ['PP', 'P', 'M', 'G'], 'cores': ['roxo'], 'outros': {'estilo': 'passeio'}}\n",
      "{'_id': ObjectId('672132ce8cb8e3aad5133c3e'), 'nome': 'Camisa manga curta masc.', 'genero': 'masculino', 'preco': 6900, 'tipo': 'camisa', 'tamanhos': ['P', 'M', 'G', 'GG'], 'cores': ['azul'], 'outros': {'manga': 'curta', 'estilo': 'sport chic'}}\n",
      "{'_id': ObjectId('672132ce8cb8e3aad5133c3f'), 'nome': 'Camisa manga comprida masc.', 'genero': 'masculino', 'preco': 9800, 'tipo': 'camisa', 'tamanhos': ['P', 'M', 'G', 'GG'], 'cores': ['branco'], 'outros': {'manga': 'comprida', 'estilo': 'social'}}\n",
      "{'_id': ObjectId('672132ce8cb8e3aad5133c40'), 'nome': 'Camisa manga comprida fem.', 'genero': 'feminino', 'preco': 10000, 'tipo': 'camisa', 'tamanhos': ['P', 'M', 'G', 'GG'], 'cores': ['vermelho'], 'outros': {'manga': 'comprida', 'estilo': 'passeio'}}\n",
      "{'_id': ObjectId('672132ce8cb8e3aad5133c41'), 'nome': 'Camisa manga curta fem.', 'genero': 'feminino', 'preco': 6500, 'tipo': 'camisa', 'tamanhos': ['P', 'M', 'G', 'GG'], 'cores': ['amarelo'], 'outros': {'manga': 'curta', 'estilo': 'passeio'}}\n",
      "\n",
      "Preço: Entre 5K e 15K\n",
      "\n",
      "{'_id': ObjectId('672132ce8cb8e3aad5133c38'), 'nome': 'Tênis de jovem', 'genero': 'masculino', 'preco': 10000, 'tipo': 'calçado', 'tamanhos': ['30', '32', '34', '36', '38', '40', '41', '44'], 'cores': ['verde', 'branco'], 'outros': {'estilo': 'passeio'}, 'estoque': [{'tamanho': '30', 'quantidade': 5}, {'tamanho': '36', 'quantidade': 2}]}\n",
      "{'_id': ObjectId('672132ce8cb8e3aad5133c3b'), 'nome': 'Shorts praia', 'genero': 'masculino', 'preco': 6700, 'tipo': 'shorts', 'tamanhos': ['P', 'M', 'G', 'GG'], 'cores': ['laranja', 'azul'], 'outros': {'estilo': 'praia'}}\n",
      "{'_id': ObjectId('672132ce8cb8e3aad5133c3c'), 'nome': 'Shorts passeio', 'genero': 'masculino', 'preco': 7200, 'tipo': 'shorts', 'tamanhos': ['M', 'G', 'GG'], 'cores': ['preto', 'verde'], 'outros': {'estilo': 'passeio'}}\n",
      "{'_id': ObjectId('672132ce8cb8e3aad5133c3d'), 'nome': 'Shorts feminino', 'genero': 'feminino', 'preco': 7000, 'tipo': 'shorts', 'tamanhos': ['PP', 'P', 'M', 'G'], 'cores': ['roxo'], 'outros': {'estilo': 'passeio'}}\n",
      "{'_id': ObjectId('672132ce8cb8e3aad5133c3e'), 'nome': 'Camisa manga curta masc.', 'genero': 'masculino', 'preco': 6900, 'tipo': 'camisa', 'tamanhos': ['P', 'M', 'G', 'GG'], 'cores': ['azul'], 'outros': {'manga': 'curta', 'estilo': 'sport chic'}}\n",
      "{'_id': ObjectId('672132ce8cb8e3aad5133c3f'), 'nome': 'Camisa manga comprida masc.', 'genero': 'masculino', 'preco': 9800, 'tipo': 'camisa', 'tamanhos': ['P', 'M', 'G', 'GG'], 'cores': ['branco'], 'outros': {'manga': 'comprida', 'estilo': 'social'}}\n",
      "{'_id': ObjectId('672132ce8cb8e3aad5133c40'), 'nome': 'Camisa manga comprida fem.', 'genero': 'feminino', 'preco': 10000, 'tipo': 'camisa', 'tamanhos': ['P', 'M', 'G', 'GG'], 'cores': ['vermelho'], 'outros': {'manga': 'comprida', 'estilo': 'passeio'}}\n",
      "{'_id': ObjectId('672132ce8cb8e3aad5133c41'), 'nome': 'Camisa manga curta fem.', 'genero': 'feminino', 'preco': 6500, 'tipo': 'camisa', 'tamanhos': ['P', 'M', 'G', 'GG'], 'cores': ['amarelo'], 'outros': {'manga': 'curta', 'estilo': 'passeio'}}\n",
      "\n",
      "Outros: filtro_manga_curta\n",
      "\n",
      "{'_id': ObjectId('672132ce8cb8e3aad5133c3e'), 'nome': 'Camisa manga curta masc.', 'genero': 'masculino', 'preco': 6900, 'tipo': 'camisa', 'tamanhos': ['P', 'M', 'G', 'GG'], 'cores': ['azul'], 'outros': {'manga': 'curta', 'estilo': 'sport chic'}}\n",
      "{'_id': ObjectId('672132ce8cb8e3aad5133c41'), 'nome': 'Camisa manga curta fem.', 'genero': 'feminino', 'preco': 6500, 'tipo': 'camisa', 'tamanhos': ['P', 'M', 'G', 'GG'], 'cores': ['amarelo'], 'outros': {'manga': 'curta', 'estilo': 'passeio'}}\n",
      "\n",
      "Outros: filtro_combinado\n",
      "\n",
      "{'_id': ObjectId('672132ce8cb8e3aad5133c41'), 'nome': 'Camisa manga curta fem.', 'genero': 'feminino', 'preco': 6500, 'tipo': 'camisa', 'tamanhos': ['P', 'M', 'G', 'GG'], 'cores': ['amarelo'], 'outros': {'manga': 'curta', 'estilo': 'passeio'}}\n"
     ]
    }
   ],
   "source": [
    "# Filtra pelo gênero feminino\n",
    "filtro_genero = {\"genero\": \"feminino\"}\n",
    "\n",
    "# Filtra pelos tamanhos que incluem \"P\"\n",
    "filtro_tamanho = {\"tamanhos\": \"P\"}\n",
    "\n",
    "# Filtra pelo preço entre 5000 e 15000\n",
    "filtro_preco = {\"preco\": {\"$gte\": 5000, \"$lte\": 15000}}\n",
    "\n",
    "# Filtra pelo campo \"outros\" com manga curta\n",
    "filtro_manga_curta = {\"outros.manga\": \"curta\"}\n",
    "\n",
    "# Combina todos os filtros\n",
    "filtro_combinado = {\n",
    "    \"$and\": [\n",
    "        filtro_genero,\n",
    "        filtro_tamanho,\n",
    "        filtro_preco,\n",
    "        filtro_manga_curta\n",
    "    ]\n",
    "}\n",
    "\n",
    "print(\"Buscando produtos:\")\n",
    "print(\"\\nGênero: Feminino\\n\")\n",
    "\n",
    "resultado_genero = db.produtos.find(filtro_genero)\n",
    "for produto in resultado_genero:\n",
    "  print(produto)\n",
    "\n",
    "print(\"\\nTamanhos: P\\n\")\n",
    "\n",
    "resultado_tamanho = db.produtos.find(filtro_tamanho)\n",
    "for produto in resultado_tamanho:\n",
    "  print(produto)\n",
    "\n",
    "print(\"\\nPreço: Entre 5K e 15K\\n\")\n",
    "\n",
    "resultado_preco = db.produtos.find(filtro_preco)\n",
    "for produto in resultado_preco:\n",
    "  print(produto)\n",
    "\n",
    "print(\"\\nOutros: filtro_manga_curta\\n\")\n",
    "\n",
    "resultado_manga_curta = db.produtos.find(filtro_manga_curta)\n",
    "for produto in resultado_manga_curta:\n",
    "  print(produto)\n",
    "\n",
    "print(\"\\nOutros: filtro_combinado\\n\")\n",
    "\n",
    "# Executa a busca\n",
    "resultados = db.produtos.find(filtro_combinado)\n",
    "\n",
    "# Exibe os resultados\n",
    "for produto in resultados:\n",
    "    print(produto)\n"
   ]
  },
  {
   "cell_type": "code",
   "execution_count": null,
   "metadata": {
    "id": "eSOcpyAPsx0-"
   },
   "outputs": [],
   "source": []
  }
 ],
 "metadata": {
  "colab": {
   "provenance": []
  },
  "kernelspec": {
   "display_name": "Python 3",
   "name": "python3"
  },
  "language_info": {
   "name": "python"
  }
 },
 "nbformat": 4,
 "nbformat_minor": 0
}
